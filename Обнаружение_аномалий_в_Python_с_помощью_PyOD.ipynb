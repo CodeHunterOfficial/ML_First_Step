{
  "nbformat": 4,
  "nbformat_minor": 0,
  "metadata": {
    "colab": {
      "provenance": [],
      "collapsed_sections": [],
      "authorship_tag": "ABX9TyPaDfAmhZ5+s5WF/uyXMNl0",
      "include_colab_link": true
    },
    "kernelspec": {
      "name": "python3",
      "display_name": "Python 3"
    },
    "language_info": {
      "name": "python"
    }
  },
  "cells": [
    {
      "cell_type": "markdown",
      "metadata": {
        "id": "view-in-github",
        "colab_type": "text"
      },
      "source": [
        "<a href=\"https://colab.research.google.com/github/CodeHunterOfficial/ML_First_Step/blob/main/%D0%9E%D0%B1%D0%BD%D0%B0%D1%80%D1%83%D0%B6%D0%B5%D0%BD%D0%B8%D0%B5_%D0%B0%D0%BD%D0%BE%D0%BC%D0%B0%D0%BB%D0%B8%D0%B9_%D0%B2_Python_%D1%81_%D0%BF%D0%BE%D0%BC%D0%BE%D1%89%D1%8C%D1%8E_PyOD.ipynb\" target=\"_parent\"><img src=\"https://colab.research.google.com/assets/colab-badge.svg\" alt=\"Open In Colab\"/></a>"
      ]
    },
    {
      "cell_type": "markdown",
      "source": [
        "## [Обнаружение аномалий с PyOD Python с помощью PyOD](https://towardsdatascience.com/introducing-anomaly-outlier-detection-in-python-with-pyod-40afcccee9ff)\n",
        "\n",
        "[см. тоже](https://github.com/sayakpaul/FloydHub-Anomaly-Detection-Blog/blob/master/FloydHub%20Anomaly%20Detection%20Blog.ipynb)"
      ],
      "metadata": {
        "id": "PswfTcpdmsgN"
      }
    },
    {
      "cell_type": "markdown",
      "source": [
        "## 1. — Установка сцены\n",
        "В последние годы обнаружение аномалий стало более популярным в сообществе машинного обучения. Несмотря на это, ресурсов на обнаружение аномалий определенно меньше, чем на классические алгоритмы машинного обучения. Таким образом, изучение обнаружения аномалий может показаться более сложным, чем должно быть. Обнаружение аномалий с концептуальной точки зрения на самом деле очень просто!"
      ],
      "metadata": {
        "id": "UMdnzmDAmvZp"
      }
    },
    {
      "cell_type": "markdown",
      "source": [
        "Наш цель  — дать вам краткое введение в обнаружение аномалий/выбросов. В частности, я покажу вам, как реализовать обнаружение аномалий в Python с помощью пакета PyOD — Python Outlier Detection . Таким образом, вы не только поймете, что такое обнаружение аномалий/выбросов, но и узнаете, как реализовать обнаружение аномалий в Python.\n",
        "\n",
        "Хорошая новость заключается в том, что PyOD легко применять, особенно если у вас уже есть опыт работы со Scikit-Learn . На самом деле пакет PyOD пытается быть очень похожим на интерфейс API Scikit-Learn.\n",
        "\n",
        "Предварительные требования: у вас должны быть базовые знания Python и Pandas. Однако никаких знаний по обнаружению аномалий не требуется"
      ],
      "metadata": {
        "id": "mES_X-e6nCsq"
      }
    },
    {
      "cell_type": "markdown",
      "source": [
        "## 2. Что такое обнаружение аномалий/выбросов?\n",
        "Обнаружение аномалий имеет много названий; обнаружение выбросов , анализ выбросов , анализ аномалий и обнаружение новизны . Краткое описание из Википедии описывает обнаружение аномалий следующим образом:\n",
        "> Обнаружение аномалий — это идентификация редких элементов, событий или наблюдений, которые вызывают подозрения, поскольку значительно отличаются от большинства данных."
      ],
      "metadata": {
        "id": "3E5ukT9jnHPG"
      }
    },
    {
      "cell_type": "markdown",
      "source": [
        "Попробуем распаковать приведенные выше утверждения. Скажем, у вас есть набор данных, состоящий из множества наблюдений. Целью обнаружения аномалий является выявление наблюдений, которые значительно отличаются от остальных. Почему вы хотите это сделать? Есть две основные причины:\n",
        "\n",
        "##Вариант использования 1 — очистка данных\n",
        "При очистке данных иногда лучше удалить аномалии, поскольку они искажают данные. Давайте проиллюстрируем это на конкретном примере: скажем, вы провели опрос, в котором задаются вопросы о любимых породах кошек респондентов "
      ],
      "metadata": {
        "id": "1-RufIK6nVKE"
      }
    },
    {
      "cell_type": "markdown",
      "source": [
        "Сначала вы даете опрос 100 людям, каждый из которых проходит опрос. Теперь вы хотите оценить среднее время, затрачиваемое на прохождение опроса. Почему? Вы хотите, чтобы в опросе приняли участие еще 10 000 человек. Было бы профессионально указать примерно, сколько времени занимает опрос новых респондентов. Несмотря на то, что кошки потрясающие, люди заняты!\n",
        "\n",
        "Допустим, вы получили следующие результаты от первых 100 человек:\n",
        "\n",
        "* 3 минуты — 57 респондентов\n",
        "* 4 минуты — 33 респондента\n",
        "* 5 минут — 6 респондентов\n",
        "* 6 минут — 3 респондента\n",
        "* 480 минут — 1 респондент"
      ],
      "metadata": {
        "id": "rMnPVZKunasj"
      }
    },
    {
      "cell_type": "markdown",
      "source": [
        "Что происходит с последним? 480 минут это 8 часов! При дальнейшем осмотре вы обнаружите, что респондент начал опрос в 23:58 вечера, а затем стоял неподвижно с 00:00 до 07:56. Потом с 07:56 до 07:58 закончилось. Вы видите, что произошло?\n",
        "\n",
        "Ясно, что человек начал опрос, затем лег спать, а затем закончил опрос, проснувшись утром. Если вы сохраните этот результат, то среднее время прохождения опроса будет\n",
        "\n",
        "среднее = (3 * 57 + 4 * 33 + 5 * 6 + 6 * 3 + 1 * 480)/100 = 8,31\n",
        "\n",
        "Однако утверждение, что опрос занимает примерно 8 минут, неверно. Единственная причина, по которой это заняло так много времени, это из-за сонливого респондента \n",
        "\n",
        "Правильнее было бы убрать этого человека из подсчета и получить\n",
        "\n",
        "среднее = (3 * 57 + 4 * 33 + 5 * 6 + 6 * 3)/99 = 3,54"
      ],
      "metadata": {
        "id": "mdobIpYynjnu"
      }
    },
    {
      "cell_type": "markdown",
      "source": [
        "Для простоты опрос можно записать в виде предложения: Среднее время завершения опроса составляет от 3 до 4 минут.\n",
        "\n",
        "Здесь вы вручную удалили выброс, чтобы очистить данные, чтобы лучше представить реальность. Обнаружение аномалий реализует алгоритмы для автоматического обнаружения выбросов."
      ],
      "metadata": {
        "id": "8Ht8gNENnoWf"
      }
    },
    {
      "cell_type": "markdown",
      "source": [
        "> Предупреждение: в приведенном выше примере вы удалили выброс, чтобы лучше сопоставить длину опроса с реальностью. Обнаружение аномалий никогда не должно использоваться для искусственного создания лучшего продукта, чем он есть на самом деле. Следует внимательно рассмотреть вопрос об этичности использования обнаружения аномалий для очистки данных."
      ],
      "metadata": {
        "id": "4rsO0tYYnPlN"
      }
    },
    {
      "cell_type": "markdown",
      "source": [
        "Вариант использования 2 — Прогноз\n",
        "В других приложениях интерес представляют сами аномалии . Примерами являются вторжение в сеть, банковское мошенничество и некоторые структурные дефекты. В этих приложениях аномалии представляют собой то, что заслуживает дальнейшего изучения.\n",
        "\n",
        "* Вторжение в сеть — аномалии в сетевых данных могут указывать на то, что произошла какая-то сетевая атака.\n",
        "* Банковское мошенничество — аномалии в данных о транзакциях могут указывать на мошенничество или подозрительное поведение.\n",
        "* Структурные дефекты — аномалии могут указывать на то, что с вашим оборудованием что-то не так. Хотя в этом параметре обычно доступно более традиционное программное обеспечение для мониторинга, обнаружение аномалий может обнаружить более странные дефекты."
      ],
      "metadata": {
        "id": "kjPfpgFEnzjR"
      }
    },
    {
      "cell_type": "markdown",
      "source": [
        ">Предостережение: в некоторых случаях, например, в случае банковского мошенничества, подозрения не всегда вызывает отдельная транзакция. Следует учитывать частоту и величину множественных транзакций, рассматриваемых в контексте. Чтобы справиться с этим, данные должны быть агрегированы соответствующим образом. Это выходит за рамки этого блога, но вам следует об этом знать."
      ],
      "metadata": {
        "id": "2hksJB5PoZNq"
      }
    },
    {
      "cell_type": "markdown",
      "source": [
        "##3 — Знакомство с PyOD\n",
        "Давайте опишем пакет Python PyOD , который помогает вам обнаруживать аномалии. По словам документации PyOD:\n",
        "\n",
        ">PyOD — это всеобъемлющий и масштабируемый набор инструментов Python для обнаружения посторонних объектов в многомерных данных.\n",
        "\n",
        "Короче говоря, PyOD предоставляет вам набор моделей, которые выполняют обнаружение аномалий. Некоторые интересные моменты, которые стоит упомянуть:\n",
        "\n",
        ">PyOD включает в себя более 30 различных алгоритмов. Некоторые из них — классика (например, LOF), а другие — новинки (например, COPOD). [См. полный список поддерживаемых моделей](https://pyod.readthedocs.io/en/latest/pyod.models.html).\n",
        "\n",
        ">PyOD оптимизировал свой код с помощью jit-decorator от Numba. [См. в блоге о Numba](https://towardsdatascience.com/how-to-skyrocket-your-python-speed-with-numba-89fd16362e47), если вам это интересно.\n",
        "\n",
        ">PyOD имеет единый API. Следовательно, если вы познакомитесь с несколькими моделями в PyOD, то сможете легко изучить остальные. Я рекомендую взглянуть на [PyOD API CheatSheet](https://pyod.readthedocs.io/en/latest/api_cc.html) после того, как вы закончите этот блог.\n",
        "\n",
        "Если вы используете PIP, то вы можете установить PyOD с помощью команды:"
      ],
      "metadata": {
        "id": "0KUjjwJboamv"
      }
    },
    {
      "cell_type": "code",
      "execution_count": 17,
      "metadata": {
        "colab": {
          "base_uri": "https://localhost:8080/"
        },
        "id": "lL5zE7cXWvoE",
        "outputId": "13bcee72-8b98-42b1-8733-1f402bf3dcc0"
      },
      "outputs": [
        {
          "output_type": "stream",
          "name": "stdout",
          "text": [
            "Looking in indexes: https://pypi.org/simple, https://us-python.pkg.dev/colab-wheels/public/simple/\n",
            "Requirement already satisfied: pyod in /usr/local/lib/python3.7/dist-packages (1.0.5)\n",
            "Requirement already satisfied: scipy>=1.5.1 in /usr/local/lib/python3.7/dist-packages (from pyod) (1.7.3)\n",
            "Requirement already satisfied: six in /usr/local/lib/python3.7/dist-packages (from pyod) (1.15.0)\n",
            "Requirement already satisfied: matplotlib in /usr/local/lib/python3.7/dist-packages (from pyod) (3.2.2)\n",
            "Requirement already satisfied: statsmodels in /usr/local/lib/python3.7/dist-packages (from pyod) (0.12.2)\n",
            "Requirement already satisfied: scikit-learn>=0.20.0 in /usr/local/lib/python3.7/dist-packages (from pyod) (1.0.2)\n",
            "Requirement already satisfied: joblib in /usr/local/lib/python3.7/dist-packages (from pyod) (1.2.0)\n",
            "Requirement already satisfied: numpy>=1.19 in /usr/local/lib/python3.7/dist-packages (from pyod) (1.21.6)\n",
            "Requirement already satisfied: numba>=0.51 in /usr/local/lib/python3.7/dist-packages (from pyod) (0.56.2)\n",
            "Requirement already satisfied: importlib-metadata in /usr/local/lib/python3.7/dist-packages (from numba>=0.51->pyod) (5.0.0)\n",
            "Requirement already satisfied: llvmlite<0.40,>=0.39.0dev0 in /usr/local/lib/python3.7/dist-packages (from numba>=0.51->pyod) (0.39.1)\n",
            "Requirement already satisfied: setuptools<60 in /usr/local/lib/python3.7/dist-packages (from numba>=0.51->pyod) (57.4.0)\n",
            "Requirement already satisfied: threadpoolctl>=2.0.0 in /usr/local/lib/python3.7/dist-packages (from scikit-learn>=0.20.0->pyod) (3.1.0)\n",
            "Requirement already satisfied: typing-extensions>=3.6.4 in /usr/local/lib/python3.7/dist-packages (from importlib-metadata->numba>=0.51->pyod) (4.1.1)\n",
            "Requirement already satisfied: zipp>=0.5 in /usr/local/lib/python3.7/dist-packages (from importlib-metadata->numba>=0.51->pyod) (3.9.0)\n",
            "Requirement already satisfied: python-dateutil>=2.1 in /usr/local/lib/python3.7/dist-packages (from matplotlib->pyod) (2.8.2)\n",
            "Requirement already satisfied: kiwisolver>=1.0.1 in /usr/local/lib/python3.7/dist-packages (from matplotlib->pyod) (1.4.4)\n",
            "Requirement already satisfied: pyparsing!=2.0.4,!=2.1.2,!=2.1.6,>=2.0.1 in /usr/local/lib/python3.7/dist-packages (from matplotlib->pyod) (3.0.9)\n",
            "Requirement already satisfied: cycler>=0.10 in /usr/local/lib/python3.7/dist-packages (from matplotlib->pyod) (0.11.0)\n",
            "Requirement already satisfied: pandas>=0.21 in /usr/local/lib/python3.7/dist-packages (from statsmodels->pyod) (1.3.5)\n",
            "Requirement already satisfied: patsy>=0.5 in /usr/local/lib/python3.7/dist-packages (from statsmodels->pyod) (0.5.3)\n",
            "Requirement already satisfied: pytz>=2017.3 in /usr/local/lib/python3.7/dist-packages (from pandas>=0.21->statsmodels->pyod) (2022.4)\n"
          ]
        }
      ],
      "source": [
        "!pip install pyod"
      ]
    },
    {
      "cell_type": "markdown",
      "source": [
        "Если у вас уже был установлен PyOD ранее, убедитесь, что он обновлен с помощью команды pip:"
      ],
      "metadata": {
        "id": "3SSa0-18pzsa"
      }
    },
    {
      "cell_type": "code",
      "source": [
        "!pip install --upgrade pyod"
      ],
      "metadata": {
        "colab": {
          "base_uri": "https://localhost:8080/"
        },
        "id": "oXeIHQTwp0a7",
        "outputId": "5634a3d7-e94c-4a65-f811-92d151c69aea"
      },
      "execution_count": 38,
      "outputs": [
        {
          "output_type": "stream",
          "name": "stdout",
          "text": [
            "Looking in indexes: https://pypi.org/simple, https://us-python.pkg.dev/colab-wheels/public/simple/\n",
            "Requirement already satisfied: pyod in /usr/local/lib/python3.7/dist-packages (1.0.5)\n",
            "Requirement already satisfied: numpy>=1.19 in /usr/local/lib/python3.7/dist-packages (from pyod) (1.21.6)\n",
            "Requirement already satisfied: numba>=0.51 in /usr/local/lib/python3.7/dist-packages (from pyod) (0.56.2)\n",
            "Requirement already satisfied: scikit-learn>=0.20.0 in /usr/local/lib/python3.7/dist-packages (from pyod) (1.0.2)\n",
            "Requirement already satisfied: six in /usr/local/lib/python3.7/dist-packages (from pyod) (1.15.0)\n",
            "Requirement already satisfied: scipy>=1.5.1 in /usr/local/lib/python3.7/dist-packages (from pyod) (1.7.3)\n",
            "Requirement already satisfied: matplotlib in /usr/local/lib/python3.7/dist-packages (from pyod) (3.2.2)\n",
            "Requirement already satisfied: statsmodels in /usr/local/lib/python3.7/dist-packages (from pyod) (0.12.2)\n",
            "Requirement already satisfied: joblib in /usr/local/lib/python3.7/dist-packages (from pyod) (1.2.0)\n",
            "Requirement already satisfied: importlib-metadata in /usr/local/lib/python3.7/dist-packages (from numba>=0.51->pyod) (5.0.0)\n",
            "Requirement already satisfied: llvmlite<0.40,>=0.39.0dev0 in /usr/local/lib/python3.7/dist-packages (from numba>=0.51->pyod) (0.39.1)\n",
            "Requirement already satisfied: setuptools<60 in /usr/local/lib/python3.7/dist-packages (from numba>=0.51->pyod) (57.4.0)\n",
            "Requirement already satisfied: threadpoolctl>=2.0.0 in /usr/local/lib/python3.7/dist-packages (from scikit-learn>=0.20.0->pyod) (3.1.0)\n",
            "Requirement already satisfied: zipp>=0.5 in /usr/local/lib/python3.7/dist-packages (from importlib-metadata->numba>=0.51->pyod) (3.9.0)\n",
            "Requirement already satisfied: typing-extensions>=3.6.4 in /usr/local/lib/python3.7/dist-packages (from importlib-metadata->numba>=0.51->pyod) (4.1.1)\n",
            "Requirement already satisfied: python-dateutil>=2.1 in /usr/local/lib/python3.7/dist-packages (from matplotlib->pyod) (2.8.2)\n",
            "Requirement already satisfied: pyparsing!=2.0.4,!=2.1.2,!=2.1.6,>=2.0.1 in /usr/local/lib/python3.7/dist-packages (from matplotlib->pyod) (3.0.9)\n",
            "Requirement already satisfied: kiwisolver>=1.0.1 in /usr/local/lib/python3.7/dist-packages (from matplotlib->pyod) (1.4.4)\n",
            "Requirement already satisfied: cycler>=0.10 in /usr/local/lib/python3.7/dist-packages (from matplotlib->pyod) (0.11.0)\n",
            "Requirement already satisfied: patsy>=0.5 in /usr/local/lib/python3.7/dist-packages (from statsmodels->pyod) (0.5.3)\n",
            "Requirement already satisfied: pandas>=0.21 in /usr/local/lib/python3.7/dist-packages (from statsmodels->pyod) (1.3.5)\n",
            "Requirement already satisfied: pytz>=2017.3 in /usr/local/lib/python3.7/dist-packages (from pandas>=0.21->statsmodels->pyod) (2022.4)\n"
          ]
        }
      ]
    },
    {
      "cell_type": "markdown",
      "source": [
        "Если вместо этого вы используете диспетчер пакетов Conda, вы можете запустить команду:"
      ],
      "metadata": {
        "id": "29RKFXI6p8mN"
      }
    },
    {
      "cell_type": "code",
      "source": [
        "!conda install -c conda-forge pyod"
      ],
      "metadata": {
        "colab": {
          "base_uri": "https://localhost:8080/"
        },
        "id": "p7aI4h5Bp-uK",
        "outputId": "d46bf2a9-6278-45fe-ccc6-d7fd5b8c49c3"
      },
      "execution_count": 39,
      "outputs": [
        {
          "output_type": "stream",
          "name": "stdout",
          "text": [
            "/bin/bash: conda: command not found\n"
          ]
        }
      ]
    },
    {
      "cell_type": "markdown",
      "source": [
        "В этом сообщении блога я продемонстрирую два алгоритма обнаружения аномалий: KNN и LOC. Возможно, вы уже слышали о KNN (K — ближайшие соседи) ранее, тогда как LOC (локальный посторонний фактор), вероятно, вам не знаком. Давайте сначала посмотрим на данные, которые вы будете использовать."
      ],
      "metadata": {
        "id": "fN4dujRWqDTa"
      }
    },
    {
      "cell_type": "markdown",
      "source": [
        "## 4 — Знакомство с данными\n",
        "Мы будем использовать классический набор данных Titanic. Чтобы загрузить набор данных в Pandas, просто запустите код ниже:"
      ],
      "metadata": {
        "id": "brluA3VhqJYN"
      }
    },
    {
      "cell_type": "code",
      "source": [
        "import pandas as pd\n",
        "titanic = pd.read_csv(\n",
        "\"https://raw.githubusercontent.com/datasciencedojo/datasets/master/titanic.csv\"\n",
        ")"
      ],
      "metadata": {
        "id": "HmS06n5mW8OF"
      },
      "execution_count": 18,
      "outputs": []
    },
    {
      "cell_type": "code",
      "source": [
        "titanic"
      ],
      "metadata": {
        "colab": {
          "base_uri": "https://localhost:8080/",
          "height": 424
        },
        "id": "o5SFtQ3dW-Gr",
        "outputId": "b9e2419d-cb41-4552-984d-50d7e543227f"
      },
      "execution_count": 19,
      "outputs": [
        {
          "output_type": "execute_result",
          "data": {
            "text/plain": [
              "     PassengerId  Survived  Pclass  \\\n",
              "0              1         0       3   \n",
              "1              2         1       1   \n",
              "2              3         1       3   \n",
              "3              4         1       1   \n",
              "4              5         0       3   \n",
              "..           ...       ...     ...   \n",
              "886          887         0       2   \n",
              "887          888         1       1   \n",
              "888          889         0       3   \n",
              "889          890         1       1   \n",
              "890          891         0       3   \n",
              "\n",
              "                                                  Name     Sex   Age  SibSp  \\\n",
              "0                              Braund, Mr. Owen Harris    male  22.0      1   \n",
              "1    Cumings, Mrs. John Bradley (Florence Briggs Th...  female  38.0      1   \n",
              "2                               Heikkinen, Miss. Laina  female  26.0      0   \n",
              "3         Futrelle, Mrs. Jacques Heath (Lily May Peel)  female  35.0      1   \n",
              "4                             Allen, Mr. William Henry    male  35.0      0   \n",
              "..                                                 ...     ...   ...    ...   \n",
              "886                              Montvila, Rev. Juozas    male  27.0      0   \n",
              "887                       Graham, Miss. Margaret Edith  female  19.0      0   \n",
              "888           Johnston, Miss. Catherine Helen \"Carrie\"  female   NaN      1   \n",
              "889                              Behr, Mr. Karl Howell    male  26.0      0   \n",
              "890                                Dooley, Mr. Patrick    male  32.0      0   \n",
              "\n",
              "     Parch            Ticket     Fare Cabin Embarked  \n",
              "0        0         A/5 21171   7.2500   NaN        S  \n",
              "1        0          PC 17599  71.2833   C85        C  \n",
              "2        0  STON/O2. 3101282   7.9250   NaN        S  \n",
              "3        0            113803  53.1000  C123        S  \n",
              "4        0            373450   8.0500   NaN        S  \n",
              "..     ...               ...      ...   ...      ...  \n",
              "886      0            211536  13.0000   NaN        S  \n",
              "887      0            112053  30.0000   B42        S  \n",
              "888      2        W./C. 6607  23.4500   NaN        S  \n",
              "889      0            111369  30.0000  C148        C  \n",
              "890      0            370376   7.7500   NaN        Q  \n",
              "\n",
              "[891 rows x 12 columns]"
            ],
            "text/html": [
              "\n",
              "  <div id=\"df-1f545a1f-7113-456c-ab83-7f87fdca4f28\">\n",
              "    <div class=\"colab-df-container\">\n",
              "      <div>\n",
              "<style scoped>\n",
              "    .dataframe tbody tr th:only-of-type {\n",
              "        vertical-align: middle;\n",
              "    }\n",
              "\n",
              "    .dataframe tbody tr th {\n",
              "        vertical-align: top;\n",
              "    }\n",
              "\n",
              "    .dataframe thead th {\n",
              "        text-align: right;\n",
              "    }\n",
              "</style>\n",
              "<table border=\"1\" class=\"dataframe\">\n",
              "  <thead>\n",
              "    <tr style=\"text-align: right;\">\n",
              "      <th></th>\n",
              "      <th>PassengerId</th>\n",
              "      <th>Survived</th>\n",
              "      <th>Pclass</th>\n",
              "      <th>Name</th>\n",
              "      <th>Sex</th>\n",
              "      <th>Age</th>\n",
              "      <th>SibSp</th>\n",
              "      <th>Parch</th>\n",
              "      <th>Ticket</th>\n",
              "      <th>Fare</th>\n",
              "      <th>Cabin</th>\n",
              "      <th>Embarked</th>\n",
              "    </tr>\n",
              "  </thead>\n",
              "  <tbody>\n",
              "    <tr>\n",
              "      <th>0</th>\n",
              "      <td>1</td>\n",
              "      <td>0</td>\n",
              "      <td>3</td>\n",
              "      <td>Braund, Mr. Owen Harris</td>\n",
              "      <td>male</td>\n",
              "      <td>22.0</td>\n",
              "      <td>1</td>\n",
              "      <td>0</td>\n",
              "      <td>A/5 21171</td>\n",
              "      <td>7.2500</td>\n",
              "      <td>NaN</td>\n",
              "      <td>S</td>\n",
              "    </tr>\n",
              "    <tr>\n",
              "      <th>1</th>\n",
              "      <td>2</td>\n",
              "      <td>1</td>\n",
              "      <td>1</td>\n",
              "      <td>Cumings, Mrs. John Bradley (Florence Briggs Th...</td>\n",
              "      <td>female</td>\n",
              "      <td>38.0</td>\n",
              "      <td>1</td>\n",
              "      <td>0</td>\n",
              "      <td>PC 17599</td>\n",
              "      <td>71.2833</td>\n",
              "      <td>C85</td>\n",
              "      <td>C</td>\n",
              "    </tr>\n",
              "    <tr>\n",
              "      <th>2</th>\n",
              "      <td>3</td>\n",
              "      <td>1</td>\n",
              "      <td>3</td>\n",
              "      <td>Heikkinen, Miss. Laina</td>\n",
              "      <td>female</td>\n",
              "      <td>26.0</td>\n",
              "      <td>0</td>\n",
              "      <td>0</td>\n",
              "      <td>STON/O2. 3101282</td>\n",
              "      <td>7.9250</td>\n",
              "      <td>NaN</td>\n",
              "      <td>S</td>\n",
              "    </tr>\n",
              "    <tr>\n",
              "      <th>3</th>\n",
              "      <td>4</td>\n",
              "      <td>1</td>\n",
              "      <td>1</td>\n",
              "      <td>Futrelle, Mrs. Jacques Heath (Lily May Peel)</td>\n",
              "      <td>female</td>\n",
              "      <td>35.0</td>\n",
              "      <td>1</td>\n",
              "      <td>0</td>\n",
              "      <td>113803</td>\n",
              "      <td>53.1000</td>\n",
              "      <td>C123</td>\n",
              "      <td>S</td>\n",
              "    </tr>\n",
              "    <tr>\n",
              "      <th>4</th>\n",
              "      <td>5</td>\n",
              "      <td>0</td>\n",
              "      <td>3</td>\n",
              "      <td>Allen, Mr. William Henry</td>\n",
              "      <td>male</td>\n",
              "      <td>35.0</td>\n",
              "      <td>0</td>\n",
              "      <td>0</td>\n",
              "      <td>373450</td>\n",
              "      <td>8.0500</td>\n",
              "      <td>NaN</td>\n",
              "      <td>S</td>\n",
              "    </tr>\n",
              "    <tr>\n",
              "      <th>...</th>\n",
              "      <td>...</td>\n",
              "      <td>...</td>\n",
              "      <td>...</td>\n",
              "      <td>...</td>\n",
              "      <td>...</td>\n",
              "      <td>...</td>\n",
              "      <td>...</td>\n",
              "      <td>...</td>\n",
              "      <td>...</td>\n",
              "      <td>...</td>\n",
              "      <td>...</td>\n",
              "      <td>...</td>\n",
              "    </tr>\n",
              "    <tr>\n",
              "      <th>886</th>\n",
              "      <td>887</td>\n",
              "      <td>0</td>\n",
              "      <td>2</td>\n",
              "      <td>Montvila, Rev. Juozas</td>\n",
              "      <td>male</td>\n",
              "      <td>27.0</td>\n",
              "      <td>0</td>\n",
              "      <td>0</td>\n",
              "      <td>211536</td>\n",
              "      <td>13.0000</td>\n",
              "      <td>NaN</td>\n",
              "      <td>S</td>\n",
              "    </tr>\n",
              "    <tr>\n",
              "      <th>887</th>\n",
              "      <td>888</td>\n",
              "      <td>1</td>\n",
              "      <td>1</td>\n",
              "      <td>Graham, Miss. Margaret Edith</td>\n",
              "      <td>female</td>\n",
              "      <td>19.0</td>\n",
              "      <td>0</td>\n",
              "      <td>0</td>\n",
              "      <td>112053</td>\n",
              "      <td>30.0000</td>\n",
              "      <td>B42</td>\n",
              "      <td>S</td>\n",
              "    </tr>\n",
              "    <tr>\n",
              "      <th>888</th>\n",
              "      <td>889</td>\n",
              "      <td>0</td>\n",
              "      <td>3</td>\n",
              "      <td>Johnston, Miss. Catherine Helen \"Carrie\"</td>\n",
              "      <td>female</td>\n",
              "      <td>NaN</td>\n",
              "      <td>1</td>\n",
              "      <td>2</td>\n",
              "      <td>W./C. 6607</td>\n",
              "      <td>23.4500</td>\n",
              "      <td>NaN</td>\n",
              "      <td>S</td>\n",
              "    </tr>\n",
              "    <tr>\n",
              "      <th>889</th>\n",
              "      <td>890</td>\n",
              "      <td>1</td>\n",
              "      <td>1</td>\n",
              "      <td>Behr, Mr. Karl Howell</td>\n",
              "      <td>male</td>\n",
              "      <td>26.0</td>\n",
              "      <td>0</td>\n",
              "      <td>0</td>\n",
              "      <td>111369</td>\n",
              "      <td>30.0000</td>\n",
              "      <td>C148</td>\n",
              "      <td>C</td>\n",
              "    </tr>\n",
              "    <tr>\n",
              "      <th>890</th>\n",
              "      <td>891</td>\n",
              "      <td>0</td>\n",
              "      <td>3</td>\n",
              "      <td>Dooley, Mr. Patrick</td>\n",
              "      <td>male</td>\n",
              "      <td>32.0</td>\n",
              "      <td>0</td>\n",
              "      <td>0</td>\n",
              "      <td>370376</td>\n",
              "      <td>7.7500</td>\n",
              "      <td>NaN</td>\n",
              "      <td>Q</td>\n",
              "    </tr>\n",
              "  </tbody>\n",
              "</table>\n",
              "<p>891 rows × 12 columns</p>\n",
              "</div>\n",
              "      <button class=\"colab-df-convert\" onclick=\"convertToInteractive('df-1f545a1f-7113-456c-ab83-7f87fdca4f28')\"\n",
              "              title=\"Convert this dataframe to an interactive table.\"\n",
              "              style=\"display:none;\">\n",
              "        \n",
              "  <svg xmlns=\"http://www.w3.org/2000/svg\" height=\"24px\"viewBox=\"0 0 24 24\"\n",
              "       width=\"24px\">\n",
              "    <path d=\"M0 0h24v24H0V0z\" fill=\"none\"/>\n",
              "    <path d=\"M18.56 5.44l.94 2.06.94-2.06 2.06-.94-2.06-.94-.94-2.06-.94 2.06-2.06.94zm-11 1L8.5 8.5l.94-2.06 2.06-.94-2.06-.94L8.5 2.5l-.94 2.06-2.06.94zm10 10l.94 2.06.94-2.06 2.06-.94-2.06-.94-.94-2.06-.94 2.06-2.06.94z\"/><path d=\"M17.41 7.96l-1.37-1.37c-.4-.4-.92-.59-1.43-.59-.52 0-1.04.2-1.43.59L10.3 9.45l-7.72 7.72c-.78.78-.78 2.05 0 2.83L4 21.41c.39.39.9.59 1.41.59.51 0 1.02-.2 1.41-.59l7.78-7.78 2.81-2.81c.8-.78.8-2.07 0-2.86zM5.41 20L4 18.59l7.72-7.72 1.47 1.35L5.41 20z\"/>\n",
              "  </svg>\n",
              "      </button>\n",
              "      \n",
              "  <style>\n",
              "    .colab-df-container {\n",
              "      display:flex;\n",
              "      flex-wrap:wrap;\n",
              "      gap: 12px;\n",
              "    }\n",
              "\n",
              "    .colab-df-convert {\n",
              "      background-color: #E8F0FE;\n",
              "      border: none;\n",
              "      border-radius: 50%;\n",
              "      cursor: pointer;\n",
              "      display: none;\n",
              "      fill: #1967D2;\n",
              "      height: 32px;\n",
              "      padding: 0 0 0 0;\n",
              "      width: 32px;\n",
              "    }\n",
              "\n",
              "    .colab-df-convert:hover {\n",
              "      background-color: #E2EBFA;\n",
              "      box-shadow: 0px 1px 2px rgba(60, 64, 67, 0.3), 0px 1px 3px 1px rgba(60, 64, 67, 0.15);\n",
              "      fill: #174EA6;\n",
              "    }\n",
              "\n",
              "    [theme=dark] .colab-df-convert {\n",
              "      background-color: #3B4455;\n",
              "      fill: #D2E3FC;\n",
              "    }\n",
              "\n",
              "    [theme=dark] .colab-df-convert:hover {\n",
              "      background-color: #434B5C;\n",
              "      box-shadow: 0px 1px 3px 1px rgba(0, 0, 0, 0.15);\n",
              "      filter: drop-shadow(0px 1px 2px rgba(0, 0, 0, 0.3));\n",
              "      fill: #FFFFFF;\n",
              "    }\n",
              "  </style>\n",
              "\n",
              "      <script>\n",
              "        const buttonEl =\n",
              "          document.querySelector('#df-1f545a1f-7113-456c-ab83-7f87fdca4f28 button.colab-df-convert');\n",
              "        buttonEl.style.display =\n",
              "          google.colab.kernel.accessAllowed ? 'block' : 'none';\n",
              "\n",
              "        async function convertToInteractive(key) {\n",
              "          const element = document.querySelector('#df-1f545a1f-7113-456c-ab83-7f87fdca4f28');\n",
              "          const dataTable =\n",
              "            await google.colab.kernel.invokeFunction('convertToInteractive',\n",
              "                                                     [key], {});\n",
              "          if (!dataTable) return;\n",
              "\n",
              "          const docLinkHtml = 'Like what you see? Visit the ' +\n",
              "            '<a target=\"_blank\" href=https://colab.research.google.com/notebooks/data_table.ipynb>data table notebook</a>'\n",
              "            + ' to learn more about interactive tables.';\n",
              "          element.innerHTML = '';\n",
              "          dataTable['output_type'] = 'display_data';\n",
              "          await google.colab.output.renderOutput(dataTable, element);\n",
              "          const docLink = document.createElement('div');\n",
              "          docLink.innerHTML = docLinkHtml;\n",
              "          element.appendChild(docLink);\n",
              "        }\n",
              "      </script>\n",
              "    </div>\n",
              "  </div>\n",
              "  "
            ]
          },
          "metadata": {},
          "execution_count": 19
        }
      ]
    },
    {
      "cell_type": "markdown",
      "source": [
        "Чтобы проверить первые строки набора данных, используйте head()метод:"
      ],
      "metadata": {
        "id": "vtaQaba2qQ5V"
      }
    },
    {
      "cell_type": "code",
      "source": [
        "titanic.head()"
      ],
      "metadata": {
        "colab": {
          "base_uri": "https://localhost:8080/",
          "height": 206
        },
        "id": "Vags4nytXDHy",
        "outputId": "10016afc-a763-4734-e822-f8c14d91c266"
      },
      "execution_count": 20,
      "outputs": [
        {
          "output_type": "execute_result",
          "data": {
            "text/plain": [
              "   PassengerId  Survived  Pclass  \\\n",
              "0            1         0       3   \n",
              "1            2         1       1   \n",
              "2            3         1       3   \n",
              "3            4         1       1   \n",
              "4            5         0       3   \n",
              "\n",
              "                                                Name     Sex   Age  SibSp  \\\n",
              "0                            Braund, Mr. Owen Harris    male  22.0      1   \n",
              "1  Cumings, Mrs. John Bradley (Florence Briggs Th...  female  38.0      1   \n",
              "2                             Heikkinen, Miss. Laina  female  26.0      0   \n",
              "3       Futrelle, Mrs. Jacques Heath (Lily May Peel)  female  35.0      1   \n",
              "4                           Allen, Mr. William Henry    male  35.0      0   \n",
              "\n",
              "   Parch            Ticket     Fare Cabin Embarked  \n",
              "0      0         A/5 21171   7.2500   NaN        S  \n",
              "1      0          PC 17599  71.2833   C85        C  \n",
              "2      0  STON/O2. 3101282   7.9250   NaN        S  \n",
              "3      0            113803  53.1000  C123        S  \n",
              "4      0            373450   8.0500   NaN        S  "
            ],
            "text/html": [
              "\n",
              "  <div id=\"df-bd662341-d045-4da3-b24f-eafd956ca32c\">\n",
              "    <div class=\"colab-df-container\">\n",
              "      <div>\n",
              "<style scoped>\n",
              "    .dataframe tbody tr th:only-of-type {\n",
              "        vertical-align: middle;\n",
              "    }\n",
              "\n",
              "    .dataframe tbody tr th {\n",
              "        vertical-align: top;\n",
              "    }\n",
              "\n",
              "    .dataframe thead th {\n",
              "        text-align: right;\n",
              "    }\n",
              "</style>\n",
              "<table border=\"1\" class=\"dataframe\">\n",
              "  <thead>\n",
              "    <tr style=\"text-align: right;\">\n",
              "      <th></th>\n",
              "      <th>PassengerId</th>\n",
              "      <th>Survived</th>\n",
              "      <th>Pclass</th>\n",
              "      <th>Name</th>\n",
              "      <th>Sex</th>\n",
              "      <th>Age</th>\n",
              "      <th>SibSp</th>\n",
              "      <th>Parch</th>\n",
              "      <th>Ticket</th>\n",
              "      <th>Fare</th>\n",
              "      <th>Cabin</th>\n",
              "      <th>Embarked</th>\n",
              "    </tr>\n",
              "  </thead>\n",
              "  <tbody>\n",
              "    <tr>\n",
              "      <th>0</th>\n",
              "      <td>1</td>\n",
              "      <td>0</td>\n",
              "      <td>3</td>\n",
              "      <td>Braund, Mr. Owen Harris</td>\n",
              "      <td>male</td>\n",
              "      <td>22.0</td>\n",
              "      <td>1</td>\n",
              "      <td>0</td>\n",
              "      <td>A/5 21171</td>\n",
              "      <td>7.2500</td>\n",
              "      <td>NaN</td>\n",
              "      <td>S</td>\n",
              "    </tr>\n",
              "    <tr>\n",
              "      <th>1</th>\n",
              "      <td>2</td>\n",
              "      <td>1</td>\n",
              "      <td>1</td>\n",
              "      <td>Cumings, Mrs. John Bradley (Florence Briggs Th...</td>\n",
              "      <td>female</td>\n",
              "      <td>38.0</td>\n",
              "      <td>1</td>\n",
              "      <td>0</td>\n",
              "      <td>PC 17599</td>\n",
              "      <td>71.2833</td>\n",
              "      <td>C85</td>\n",
              "      <td>C</td>\n",
              "    </tr>\n",
              "    <tr>\n",
              "      <th>2</th>\n",
              "      <td>3</td>\n",
              "      <td>1</td>\n",
              "      <td>3</td>\n",
              "      <td>Heikkinen, Miss. Laina</td>\n",
              "      <td>female</td>\n",
              "      <td>26.0</td>\n",
              "      <td>0</td>\n",
              "      <td>0</td>\n",
              "      <td>STON/O2. 3101282</td>\n",
              "      <td>7.9250</td>\n",
              "      <td>NaN</td>\n",
              "      <td>S</td>\n",
              "    </tr>\n",
              "    <tr>\n",
              "      <th>3</th>\n",
              "      <td>4</td>\n",
              "      <td>1</td>\n",
              "      <td>1</td>\n",
              "      <td>Futrelle, Mrs. Jacques Heath (Lily May Peel)</td>\n",
              "      <td>female</td>\n",
              "      <td>35.0</td>\n",
              "      <td>1</td>\n",
              "      <td>0</td>\n",
              "      <td>113803</td>\n",
              "      <td>53.1000</td>\n",
              "      <td>C123</td>\n",
              "      <td>S</td>\n",
              "    </tr>\n",
              "    <tr>\n",
              "      <th>4</th>\n",
              "      <td>5</td>\n",
              "      <td>0</td>\n",
              "      <td>3</td>\n",
              "      <td>Allen, Mr. William Henry</td>\n",
              "      <td>male</td>\n",
              "      <td>35.0</td>\n",
              "      <td>0</td>\n",
              "      <td>0</td>\n",
              "      <td>373450</td>\n",
              "      <td>8.0500</td>\n",
              "      <td>NaN</td>\n",
              "      <td>S</td>\n",
              "    </tr>\n",
              "  </tbody>\n",
              "</table>\n",
              "</div>\n",
              "      <button class=\"colab-df-convert\" onclick=\"convertToInteractive('df-bd662341-d045-4da3-b24f-eafd956ca32c')\"\n",
              "              title=\"Convert this dataframe to an interactive table.\"\n",
              "              style=\"display:none;\">\n",
              "        \n",
              "  <svg xmlns=\"http://www.w3.org/2000/svg\" height=\"24px\"viewBox=\"0 0 24 24\"\n",
              "       width=\"24px\">\n",
              "    <path d=\"M0 0h24v24H0V0z\" fill=\"none\"/>\n",
              "    <path d=\"M18.56 5.44l.94 2.06.94-2.06 2.06-.94-2.06-.94-.94-2.06-.94 2.06-2.06.94zm-11 1L8.5 8.5l.94-2.06 2.06-.94-2.06-.94L8.5 2.5l-.94 2.06-2.06.94zm10 10l.94 2.06.94-2.06 2.06-.94-2.06-.94-.94-2.06-.94 2.06-2.06.94z\"/><path d=\"M17.41 7.96l-1.37-1.37c-.4-.4-.92-.59-1.43-.59-.52 0-1.04.2-1.43.59L10.3 9.45l-7.72 7.72c-.78.78-.78 2.05 0 2.83L4 21.41c.39.39.9.59 1.41.59.51 0 1.02-.2 1.41-.59l7.78-7.78 2.81-2.81c.8-.78.8-2.07 0-2.86zM5.41 20L4 18.59l7.72-7.72 1.47 1.35L5.41 20z\"/>\n",
              "  </svg>\n",
              "      </button>\n",
              "      \n",
              "  <style>\n",
              "    .colab-df-container {\n",
              "      display:flex;\n",
              "      flex-wrap:wrap;\n",
              "      gap: 12px;\n",
              "    }\n",
              "\n",
              "    .colab-df-convert {\n",
              "      background-color: #E8F0FE;\n",
              "      border: none;\n",
              "      border-radius: 50%;\n",
              "      cursor: pointer;\n",
              "      display: none;\n",
              "      fill: #1967D2;\n",
              "      height: 32px;\n",
              "      padding: 0 0 0 0;\n",
              "      width: 32px;\n",
              "    }\n",
              "\n",
              "    .colab-df-convert:hover {\n",
              "      background-color: #E2EBFA;\n",
              "      box-shadow: 0px 1px 2px rgba(60, 64, 67, 0.3), 0px 1px 3px 1px rgba(60, 64, 67, 0.15);\n",
              "      fill: #174EA6;\n",
              "    }\n",
              "\n",
              "    [theme=dark] .colab-df-convert {\n",
              "      background-color: #3B4455;\n",
              "      fill: #D2E3FC;\n",
              "    }\n",
              "\n",
              "    [theme=dark] .colab-df-convert:hover {\n",
              "      background-color: #434B5C;\n",
              "      box-shadow: 0px 1px 3px 1px rgba(0, 0, 0, 0.15);\n",
              "      filter: drop-shadow(0px 1px 2px rgba(0, 0, 0, 0.3));\n",
              "      fill: #FFFFFF;\n",
              "    }\n",
              "  </style>\n",
              "\n",
              "      <script>\n",
              "        const buttonEl =\n",
              "          document.querySelector('#df-bd662341-d045-4da3-b24f-eafd956ca32c button.colab-df-convert');\n",
              "        buttonEl.style.display =\n",
              "          google.colab.kernel.accessAllowed ? 'block' : 'none';\n",
              "\n",
              "        async function convertToInteractive(key) {\n",
              "          const element = document.querySelector('#df-bd662341-d045-4da3-b24f-eafd956ca32c');\n",
              "          const dataTable =\n",
              "            await google.colab.kernel.invokeFunction('convertToInteractive',\n",
              "                                                     [key], {});\n",
              "          if (!dataTable) return;\n",
              "\n",
              "          const docLinkHtml = 'Like what you see? Visit the ' +\n",
              "            '<a target=\"_blank\" href=https://colab.research.google.com/notebooks/data_table.ipynb>data table notebook</a>'\n",
              "            + ' to learn more about interactive tables.';\n",
              "          element.innerHTML = '';\n",
              "          dataTable['output_type'] = 'display_data';\n",
              "          await google.colab.output.renderOutput(dataTable, element);\n",
              "          const docLink = document.createElement('div');\n",
              "          docLink.innerHTML = docLinkHtml;\n",
              "          element.appendChild(docLink);\n",
              "        }\n",
              "      </script>\n",
              "    </div>\n",
              "  </div>\n",
              "  "
            ]
          },
          "metadata": {},
          "execution_count": 20
        }
      ]
    },
    {
      "cell_type": "markdown",
      "source": [
        "Как видите, есть столбцы, представляющие пол, возраст, стоимость проезда, пассажирский класс, билет и т. д. Для простоты вы будете работать только со следующими четырьмя столбцами:"
      ],
      "metadata": {
        "id": "Rhu3-TY1qWMF"
      }
    },
    {
      "cell_type": "code",
      "source": [
        "# Selecting only the columns Survived, Pclass, Fare, and Sex\n",
        "partial_titanic = titanic[[\"Survived\", \"Pclass\", \"Fare\", \"Sex\"]]"
      ],
      "metadata": {
        "id": "21uY-V2KXMfC"
      },
      "execution_count": 21,
      "outputs": []
    },
    {
      "cell_type": "code",
      "source": [
        "partial_titanic "
      ],
      "metadata": {
        "colab": {
          "base_uri": "https://localhost:8080/",
          "height": 424
        },
        "id": "m19n9THIXOyi",
        "outputId": "6d799155-8333-4672-bae3-5de045751380"
      },
      "execution_count": 22,
      "outputs": [
        {
          "output_type": "execute_result",
          "data": {
            "text/plain": [
              "     Survived  Pclass     Fare     Sex\n",
              "0           0       3   7.2500    male\n",
              "1           1       1  71.2833  female\n",
              "2           1       3   7.9250  female\n",
              "3           1       1  53.1000  female\n",
              "4           0       3   8.0500    male\n",
              "..        ...     ...      ...     ...\n",
              "886         0       2  13.0000    male\n",
              "887         1       1  30.0000  female\n",
              "888         0       3  23.4500  female\n",
              "889         1       1  30.0000    male\n",
              "890         0       3   7.7500    male\n",
              "\n",
              "[891 rows x 4 columns]"
            ],
            "text/html": [
              "\n",
              "  <div id=\"df-521bf6b3-249a-4799-b250-90d1cb742b0f\">\n",
              "    <div class=\"colab-df-container\">\n",
              "      <div>\n",
              "<style scoped>\n",
              "    .dataframe tbody tr th:only-of-type {\n",
              "        vertical-align: middle;\n",
              "    }\n",
              "\n",
              "    .dataframe tbody tr th {\n",
              "        vertical-align: top;\n",
              "    }\n",
              "\n",
              "    .dataframe thead th {\n",
              "        text-align: right;\n",
              "    }\n",
              "</style>\n",
              "<table border=\"1\" class=\"dataframe\">\n",
              "  <thead>\n",
              "    <tr style=\"text-align: right;\">\n",
              "      <th></th>\n",
              "      <th>Survived</th>\n",
              "      <th>Pclass</th>\n",
              "      <th>Fare</th>\n",
              "      <th>Sex</th>\n",
              "    </tr>\n",
              "  </thead>\n",
              "  <tbody>\n",
              "    <tr>\n",
              "      <th>0</th>\n",
              "      <td>0</td>\n",
              "      <td>3</td>\n",
              "      <td>7.2500</td>\n",
              "      <td>male</td>\n",
              "    </tr>\n",
              "    <tr>\n",
              "      <th>1</th>\n",
              "      <td>1</td>\n",
              "      <td>1</td>\n",
              "      <td>71.2833</td>\n",
              "      <td>female</td>\n",
              "    </tr>\n",
              "    <tr>\n",
              "      <th>2</th>\n",
              "      <td>1</td>\n",
              "      <td>3</td>\n",
              "      <td>7.9250</td>\n",
              "      <td>female</td>\n",
              "    </tr>\n",
              "    <tr>\n",
              "      <th>3</th>\n",
              "      <td>1</td>\n",
              "      <td>1</td>\n",
              "      <td>53.1000</td>\n",
              "      <td>female</td>\n",
              "    </tr>\n",
              "    <tr>\n",
              "      <th>4</th>\n",
              "      <td>0</td>\n",
              "      <td>3</td>\n",
              "      <td>8.0500</td>\n",
              "      <td>male</td>\n",
              "    </tr>\n",
              "    <tr>\n",
              "      <th>...</th>\n",
              "      <td>...</td>\n",
              "      <td>...</td>\n",
              "      <td>...</td>\n",
              "      <td>...</td>\n",
              "    </tr>\n",
              "    <tr>\n",
              "      <th>886</th>\n",
              "      <td>0</td>\n",
              "      <td>2</td>\n",
              "      <td>13.0000</td>\n",
              "      <td>male</td>\n",
              "    </tr>\n",
              "    <tr>\n",
              "      <th>887</th>\n",
              "      <td>1</td>\n",
              "      <td>1</td>\n",
              "      <td>30.0000</td>\n",
              "      <td>female</td>\n",
              "    </tr>\n",
              "    <tr>\n",
              "      <th>888</th>\n",
              "      <td>0</td>\n",
              "      <td>3</td>\n",
              "      <td>23.4500</td>\n",
              "      <td>female</td>\n",
              "    </tr>\n",
              "    <tr>\n",
              "      <th>889</th>\n",
              "      <td>1</td>\n",
              "      <td>1</td>\n",
              "      <td>30.0000</td>\n",
              "      <td>male</td>\n",
              "    </tr>\n",
              "    <tr>\n",
              "      <th>890</th>\n",
              "      <td>0</td>\n",
              "      <td>3</td>\n",
              "      <td>7.7500</td>\n",
              "      <td>male</td>\n",
              "    </tr>\n",
              "  </tbody>\n",
              "</table>\n",
              "<p>891 rows × 4 columns</p>\n",
              "</div>\n",
              "      <button class=\"colab-df-convert\" onclick=\"convertToInteractive('df-521bf6b3-249a-4799-b250-90d1cb742b0f')\"\n",
              "              title=\"Convert this dataframe to an interactive table.\"\n",
              "              style=\"display:none;\">\n",
              "        \n",
              "  <svg xmlns=\"http://www.w3.org/2000/svg\" height=\"24px\"viewBox=\"0 0 24 24\"\n",
              "       width=\"24px\">\n",
              "    <path d=\"M0 0h24v24H0V0z\" fill=\"none\"/>\n",
              "    <path d=\"M18.56 5.44l.94 2.06.94-2.06 2.06-.94-2.06-.94-.94-2.06-.94 2.06-2.06.94zm-11 1L8.5 8.5l.94-2.06 2.06-.94-2.06-.94L8.5 2.5l-.94 2.06-2.06.94zm10 10l.94 2.06.94-2.06 2.06-.94-2.06-.94-.94-2.06-.94 2.06-2.06.94z\"/><path d=\"M17.41 7.96l-1.37-1.37c-.4-.4-.92-.59-1.43-.59-.52 0-1.04.2-1.43.59L10.3 9.45l-7.72 7.72c-.78.78-.78 2.05 0 2.83L4 21.41c.39.39.9.59 1.41.59.51 0 1.02-.2 1.41-.59l7.78-7.78 2.81-2.81c.8-.78.8-2.07 0-2.86zM5.41 20L4 18.59l7.72-7.72 1.47 1.35L5.41 20z\"/>\n",
              "  </svg>\n",
              "      </button>\n",
              "      \n",
              "  <style>\n",
              "    .colab-df-container {\n",
              "      display:flex;\n",
              "      flex-wrap:wrap;\n",
              "      gap: 12px;\n",
              "    }\n",
              "\n",
              "    .colab-df-convert {\n",
              "      background-color: #E8F0FE;\n",
              "      border: none;\n",
              "      border-radius: 50%;\n",
              "      cursor: pointer;\n",
              "      display: none;\n",
              "      fill: #1967D2;\n",
              "      height: 32px;\n",
              "      padding: 0 0 0 0;\n",
              "      width: 32px;\n",
              "    }\n",
              "\n",
              "    .colab-df-convert:hover {\n",
              "      background-color: #E2EBFA;\n",
              "      box-shadow: 0px 1px 2px rgba(60, 64, 67, 0.3), 0px 1px 3px 1px rgba(60, 64, 67, 0.15);\n",
              "      fill: #174EA6;\n",
              "    }\n",
              "\n",
              "    [theme=dark] .colab-df-convert {\n",
              "      background-color: #3B4455;\n",
              "      fill: #D2E3FC;\n",
              "    }\n",
              "\n",
              "    [theme=dark] .colab-df-convert:hover {\n",
              "      background-color: #434B5C;\n",
              "      box-shadow: 0px 1px 3px 1px rgba(0, 0, 0, 0.15);\n",
              "      filter: drop-shadow(0px 1px 2px rgba(0, 0, 0, 0.3));\n",
              "      fill: #FFFFFF;\n",
              "    }\n",
              "  </style>\n",
              "\n",
              "      <script>\n",
              "        const buttonEl =\n",
              "          document.querySelector('#df-521bf6b3-249a-4799-b250-90d1cb742b0f button.colab-df-convert');\n",
              "        buttonEl.style.display =\n",
              "          google.colab.kernel.accessAllowed ? 'block' : 'none';\n",
              "\n",
              "        async function convertToInteractive(key) {\n",
              "          const element = document.querySelector('#df-521bf6b3-249a-4799-b250-90d1cb742b0f');\n",
              "          const dataTable =\n",
              "            await google.colab.kernel.invokeFunction('convertToInteractive',\n",
              "                                                     [key], {});\n",
              "          if (!dataTable) return;\n",
              "\n",
              "          const docLinkHtml = 'Like what you see? Visit the ' +\n",
              "            '<a target=\"_blank\" href=https://colab.research.google.com/notebooks/data_table.ipynb>data table notebook</a>'\n",
              "            + ' to learn more about interactive tables.';\n",
              "          element.innerHTML = '';\n",
              "          dataTable['output_type'] = 'display_data';\n",
              "          await google.colab.output.renderOutput(dataTable, element);\n",
              "          const docLink = document.createElement('div');\n",
              "          docLink.innerHTML = docLinkHtml;\n",
              "          element.appendChild(docLink);\n",
              "        }\n",
              "      </script>\n",
              "    </div>\n",
              "  </div>\n",
              "  "
            ]
          },
          "metadata": {},
          "execution_count": 22
        }
      ]
    },
    {
      "cell_type": "markdown",
      "source": [
        "В нем нет пропущенных значений partial_titanic. Однако столбец Sexсостоит из строковых значений maleили female. Чтобы иметь возможность обнаруживать аномалии, вам нужны числовые значения. Вы можете преобразовать эту двоичную категориальную переменную в значения 0 и 1 с помощью кода:"
      ],
      "metadata": {
        "id": "HZLoLsWyq86F"
      }
    },
    {
      "cell_type": "code",
      "source": [
        "# Change the categorical value Sex to numeric values\n",
        "partial_titanic[\"Sex\"] = partial_titanic[\"Sex\"].map({\n",
        "\"male\": 0,\n",
        "\"female\": 1\n",
        "})"
      ],
      "metadata": {
        "id": "c6JkcNTbXgki",
        "outputId": "d559c80f-8d79-45bf-e725-8ebc884b5654",
        "colab": {
          "base_uri": "https://localhost:8080/"
        }
      },
      "execution_count": 23,
      "outputs": [
        {
          "output_type": "stream",
          "name": "stderr",
          "text": [
            "/usr/local/lib/python3.7/dist-packages/ipykernel_launcher.py:4: SettingWithCopyWarning: \n",
            "A value is trying to be set on a copy of a slice from a DataFrame.\n",
            "Try using .loc[row_indexer,col_indexer] = value instead\n",
            "\n",
            "See the caveats in the documentation: https://pandas.pydata.org/pandas-docs/stable/user_guide/indexing.html#returning-a-view-versus-a-copy\n",
            "  after removing the cwd from sys.path.\n"
          ]
        }
      ]
    },
    {
      "cell_type": "code",
      "source": [
        "partial_titanic[\"Sex\"]"
      ],
      "metadata": {
        "colab": {
          "base_uri": "https://localhost:8080/"
        },
        "id": "m8qm6Qf9cFhD",
        "outputId": "aae324bf-478c-4038-f247-1e68fc84749b"
      },
      "execution_count": 24,
      "outputs": [
        {
          "output_type": "execute_result",
          "data": {
            "text/plain": [
              "0      0\n",
              "1      1\n",
              "2      1\n",
              "3      1\n",
              "4      0\n",
              "      ..\n",
              "886    0\n",
              "887    1\n",
              "888    1\n",
              "889    0\n",
              "890    0\n",
              "Name: Sex, Length: 891, dtype: int64"
            ]
          },
          "metadata": {},
          "execution_count": 24
        }
      ]
    },
    {
      "cell_type": "markdown",
      "source": [
        "Теперь вы готовы заняться обнаружением аномалий:"
      ],
      "metadata": {
        "id": "j5QkFtcWrDRU"
      }
    },
    {
      "cell_type": "markdown",
      "source": [
        "## 5 — Обнаружение аномалий для очистки данных\n",
        "\n",
        "Давайте теперь воспользуемся обнаружением аномалий, чтобы очистить набор данных partial_titanic, который вы создали в предыдущем разделе. Для этого вы будете использовать модель KNN. Модель KNN исследует данные и ищет точки данных (строки), которые находятся далеко от других точек данных. Для начала вы импортируете модель KNN следующим образом:"
      ],
      "metadata": {
        "id": "aT8yGAzmrFd2"
      }
    },
    {
      "cell_type": "code",
      "source": [
        "# Import the KNN\n",
        "from pyod.models.knn import KNN"
      ],
      "metadata": {
        "id": "yjMHmGe9cNPI"
      },
      "execution_count": 25,
      "outputs": []
    },
    {
      "cell_type": "markdown",
      "source": [
        "Начнем с запуска модели KNN:"
      ],
      "metadata": {
        "id": "WZDb-ONjrNDw"
      }
    },
    {
      "cell_type": "code",
      "source": [
        "# Initiate a KNN model\n",
        "KNN_model = KNN()"
      ],
      "metadata": {
        "id": "G5HXTXUWcRLd"
      },
      "execution_count": 26,
      "outputs": []
    },
    {
      "cell_type": "markdown",
      "source": [
        "Для методов обнаружения аномалий для очистки данных вы можете использовать весь набор данных следующим образом."
      ],
      "metadata": {
        "id": "9R1waZUrrRNZ"
      }
    },
    {
      "cell_type": "code",
      "source": [
        "# Fit the model to the whole dataset\n",
        "KNN_model.fit(partial_titanic)"
      ],
      "metadata": {
        "colab": {
          "base_uri": "https://localhost:8080/"
        },
        "id": "Zrc9V3zhcVNn",
        "outputId": "503cd967-f18f-4700-e16b-45446bb9df70"
      },
      "execution_count": 27,
      "outputs": [
        {
          "output_type": "execute_result",
          "data": {
            "text/plain": [
              "KNN(algorithm='auto', contamination=0.1, leaf_size=30, method='largest',\n",
              "  metric='minkowski', metric_params=None, n_jobs=1, n_neighbors=5, p=2,\n",
              "  radius=1.0)"
            ]
          },
          "metadata": {},
          "execution_count": 27
        }
      ]
    },
    {
      "cell_type": "markdown",
      "source": [
        "При запуске приведенного выше кода вы получаете множество значений по умолчанию (например, contamination=0.1). Это можно настроить при необходимости. После запуска модели вы можете получить доступ к двум типам вывода:\n",
        "\n",
        "* **Метки:** запустив KNN_model.labels_, вы можете найти двоичные метки того, является ли наблюдение выбросом или нет. Число 0 указывает на нормальное наблюдение, а число 1указывает на выброс.\n",
        "* **Оценки принятия решений**: запустив KNN_model.decision_scores_, вы получаете сырые оценки того, насколько что-то является выбросом. Значения будут варьироваться от 0и вверх. Более высокий показатель аномалии указывает на то, что точка данных является скорее выбросом.\n",
        "\n",
        "Давайте проверим метки обученной модели:"
      ],
      "metadata": {
        "id": "dxQnBTqnrX12"
      }
    },
    {
      "cell_type": "code",
      "source": [
        "# Find the labels\n",
        "outlier_labels = KNN_model.labels_\n",
        "# Find the number of outliers\n",
        "number_of_outliers = len(outlier_labels[outlier_labels == 1])\n",
        "print(number_of_outliers)"
      ],
      "metadata": {
        "colab": {
          "base_uri": "https://localhost:8080/"
        },
        "id": "ZFH26Eo5clqD",
        "outputId": "63863e12-cd5f-4a04-8d25-4fc5d3ca5733"
      },
      "execution_count": 28,
      "outputs": [
        {
          "output_type": "stream",
          "name": "stdout",
          "text": [
            "88\n"
          ]
        }
      ]
    },
    {
      "cell_type": "markdown",
      "source": [
        "Для набора данных с 891 пассажиром 88 выбросов — это довольно много. Чтобы уменьшить это, вы можете указать параметр contaminationв модели KNN, чтобы он был ниже. Указывает contaminationпроцент точек данных, которые являются выбросами. Предположим, что загрязнение составляет только 1%:"
      ],
      "metadata": {
        "id": "vbF8l3YIrlQA"
      }
    },
    {
      "cell_type": "code",
      "source": [
        "# Initiate a KNN model\n",
        "KNN_model = KNN(contamination=0.01)\n",
        "# Fit the model to the whole dataset\n",
        "KNN_model.fit(partial_titanic)\n",
        "# Find the labels\n",
        "outlier_labels = KNN_model.labels_\n",
        "# Find the number of outliers\n",
        "number_of_outliers = len(outlier_labels[outlier_labels == 1])\n",
        "print(number_of_outliers)"
      ],
      "metadata": {
        "colab": {
          "base_uri": "https://localhost:8080/"
        },
        "id": "Nstyx8SUc90u",
        "outputId": "e1bccd66-76ea-4fe8-8557-eac1a333263a"
      },
      "execution_count": 29,
      "outputs": [
        {
          "output_type": "stream",
          "name": "stdout",
          "text": [
            "9\n"
          ]
        }
      ]
    },
    {
      "cell_type": "markdown",
      "source": [
        "Теперь только 9аутсайдеры! Вы можете проверить их:"
      ],
      "metadata": {
        "id": "FuM9ahUOrr0r"
      }
    },
    {
      "cell_type": "code",
      "source": [
        "# Finding the outlier passengers\n",
        "outliers = partial_titanic.iloc[outlier_labels == 1]"
      ],
      "metadata": {
        "id": "MKwovSv0dAGp"
      },
      "execution_count": 30,
      "outputs": []
    },
    {
      "cell_type": "markdown",
      "source": [
        "Если вы проверите outliersпеременную, вы получите следующую таблицу:"
      ],
      "metadata": {
        "id": "PzhDNtf3rv3z"
      }
    },
    {
      "cell_type": "code",
      "source": [
        "outliers"
      ],
      "metadata": {
        "id": "1mCAN1LGdE1r",
        "outputId": "9728b3ca-9903-4a5a-a5ba-43c1cb8073c1",
        "colab": {
          "base_uri": "https://localhost:8080/",
          "height": 332
        }
      },
      "execution_count": 31,
      "outputs": [
        {
          "output_type": "execute_result",
          "data": {
            "text/plain": [
              "     Survived  Pclass      Fare  Sex\n",
              "258         1       1  512.3292    1\n",
              "380         1       1  227.5250    1\n",
              "679         1       1  512.3292    0\n",
              "689         1       1  211.3375    1\n",
              "700         1       1  227.5250    1\n",
              "716         1       1  227.5250    1\n",
              "730         1       1  211.3375    1\n",
              "737         1       1  512.3292    0\n",
              "779         1       1  211.3375    1"
            ],
            "text/html": [
              "\n",
              "  <div id=\"df-c3cea03d-5412-45e9-8b5a-bd6dc12abba1\">\n",
              "    <div class=\"colab-df-container\">\n",
              "      <div>\n",
              "<style scoped>\n",
              "    .dataframe tbody tr th:only-of-type {\n",
              "        vertical-align: middle;\n",
              "    }\n",
              "\n",
              "    .dataframe tbody tr th {\n",
              "        vertical-align: top;\n",
              "    }\n",
              "\n",
              "    .dataframe thead th {\n",
              "        text-align: right;\n",
              "    }\n",
              "</style>\n",
              "<table border=\"1\" class=\"dataframe\">\n",
              "  <thead>\n",
              "    <tr style=\"text-align: right;\">\n",
              "      <th></th>\n",
              "      <th>Survived</th>\n",
              "      <th>Pclass</th>\n",
              "      <th>Fare</th>\n",
              "      <th>Sex</th>\n",
              "    </tr>\n",
              "  </thead>\n",
              "  <tbody>\n",
              "    <tr>\n",
              "      <th>258</th>\n",
              "      <td>1</td>\n",
              "      <td>1</td>\n",
              "      <td>512.3292</td>\n",
              "      <td>1</td>\n",
              "    </tr>\n",
              "    <tr>\n",
              "      <th>380</th>\n",
              "      <td>1</td>\n",
              "      <td>1</td>\n",
              "      <td>227.5250</td>\n",
              "      <td>1</td>\n",
              "    </tr>\n",
              "    <tr>\n",
              "      <th>679</th>\n",
              "      <td>1</td>\n",
              "      <td>1</td>\n",
              "      <td>512.3292</td>\n",
              "      <td>0</td>\n",
              "    </tr>\n",
              "    <tr>\n",
              "      <th>689</th>\n",
              "      <td>1</td>\n",
              "      <td>1</td>\n",
              "      <td>211.3375</td>\n",
              "      <td>1</td>\n",
              "    </tr>\n",
              "    <tr>\n",
              "      <th>700</th>\n",
              "      <td>1</td>\n",
              "      <td>1</td>\n",
              "      <td>227.5250</td>\n",
              "      <td>1</td>\n",
              "    </tr>\n",
              "    <tr>\n",
              "      <th>716</th>\n",
              "      <td>1</td>\n",
              "      <td>1</td>\n",
              "      <td>227.5250</td>\n",
              "      <td>1</td>\n",
              "    </tr>\n",
              "    <tr>\n",
              "      <th>730</th>\n",
              "      <td>1</td>\n",
              "      <td>1</td>\n",
              "      <td>211.3375</td>\n",
              "      <td>1</td>\n",
              "    </tr>\n",
              "    <tr>\n",
              "      <th>737</th>\n",
              "      <td>1</td>\n",
              "      <td>1</td>\n",
              "      <td>512.3292</td>\n",
              "      <td>0</td>\n",
              "    </tr>\n",
              "    <tr>\n",
              "      <th>779</th>\n",
              "      <td>1</td>\n",
              "      <td>1</td>\n",
              "      <td>211.3375</td>\n",
              "      <td>1</td>\n",
              "    </tr>\n",
              "  </tbody>\n",
              "</table>\n",
              "</div>\n",
              "      <button class=\"colab-df-convert\" onclick=\"convertToInteractive('df-c3cea03d-5412-45e9-8b5a-bd6dc12abba1')\"\n",
              "              title=\"Convert this dataframe to an interactive table.\"\n",
              "              style=\"display:none;\">\n",
              "        \n",
              "  <svg xmlns=\"http://www.w3.org/2000/svg\" height=\"24px\"viewBox=\"0 0 24 24\"\n",
              "       width=\"24px\">\n",
              "    <path d=\"M0 0h24v24H0V0z\" fill=\"none\"/>\n",
              "    <path d=\"M18.56 5.44l.94 2.06.94-2.06 2.06-.94-2.06-.94-.94-2.06-.94 2.06-2.06.94zm-11 1L8.5 8.5l.94-2.06 2.06-.94-2.06-.94L8.5 2.5l-.94 2.06-2.06.94zm10 10l.94 2.06.94-2.06 2.06-.94-2.06-.94-.94-2.06-.94 2.06-2.06.94z\"/><path d=\"M17.41 7.96l-1.37-1.37c-.4-.4-.92-.59-1.43-.59-.52 0-1.04.2-1.43.59L10.3 9.45l-7.72 7.72c-.78.78-.78 2.05 0 2.83L4 21.41c.39.39.9.59 1.41.59.51 0 1.02-.2 1.41-.59l7.78-7.78 2.81-2.81c.8-.78.8-2.07 0-2.86zM5.41 20L4 18.59l7.72-7.72 1.47 1.35L5.41 20z\"/>\n",
              "  </svg>\n",
              "      </button>\n",
              "      \n",
              "  <style>\n",
              "    .colab-df-container {\n",
              "      display:flex;\n",
              "      flex-wrap:wrap;\n",
              "      gap: 12px;\n",
              "    }\n",
              "\n",
              "    .colab-df-convert {\n",
              "      background-color: #E8F0FE;\n",
              "      border: none;\n",
              "      border-radius: 50%;\n",
              "      cursor: pointer;\n",
              "      display: none;\n",
              "      fill: #1967D2;\n",
              "      height: 32px;\n",
              "      padding: 0 0 0 0;\n",
              "      width: 32px;\n",
              "    }\n",
              "\n",
              "    .colab-df-convert:hover {\n",
              "      background-color: #E2EBFA;\n",
              "      box-shadow: 0px 1px 2px rgba(60, 64, 67, 0.3), 0px 1px 3px 1px rgba(60, 64, 67, 0.15);\n",
              "      fill: #174EA6;\n",
              "    }\n",
              "\n",
              "    [theme=dark] .colab-df-convert {\n",
              "      background-color: #3B4455;\n",
              "      fill: #D2E3FC;\n",
              "    }\n",
              "\n",
              "    [theme=dark] .colab-df-convert:hover {\n",
              "      background-color: #434B5C;\n",
              "      box-shadow: 0px 1px 3px 1px rgba(0, 0, 0, 0.15);\n",
              "      filter: drop-shadow(0px 1px 2px rgba(0, 0, 0, 0.3));\n",
              "      fill: #FFFFFF;\n",
              "    }\n",
              "  </style>\n",
              "\n",
              "      <script>\n",
              "        const buttonEl =\n",
              "          document.querySelector('#df-c3cea03d-5412-45e9-8b5a-bd6dc12abba1 button.colab-df-convert');\n",
              "        buttonEl.style.display =\n",
              "          google.colab.kernel.accessAllowed ? 'block' : 'none';\n",
              "\n",
              "        async function convertToInteractive(key) {\n",
              "          const element = document.querySelector('#df-c3cea03d-5412-45e9-8b5a-bd6dc12abba1');\n",
              "          const dataTable =\n",
              "            await google.colab.kernel.invokeFunction('convertToInteractive',\n",
              "                                                     [key], {});\n",
              "          if (!dataTable) return;\n",
              "\n",
              "          const docLinkHtml = 'Like what you see? Visit the ' +\n",
              "            '<a target=\"_blank\" href=https://colab.research.google.com/notebooks/data_table.ipynb>data table notebook</a>'\n",
              "            + ' to learn more about interactive tables.';\n",
              "          element.innerHTML = '';\n",
              "          dataTable['output_type'] = 'display_data';\n",
              "          await google.colab.output.renderOutput(dataTable, element);\n",
              "          const docLink = document.createElement('div');\n",
              "          docLink.innerHTML = docLinkHtml;\n",
              "          element.appendChild(docLink);\n",
              "        }\n",
              "      </script>\n",
              "    </div>\n",
              "  </div>\n",
              "  "
            ]
          },
          "metadata": {},
          "execution_count": 31
        }
      ]
    },
    {
      "cell_type": "markdown",
      "source": [
        "Если вы посмотрите на пассажиров выше, то модель KNN увидит, что стоимость их проезда невероятно высока. Среднюю стоимость проезда для всех пассажиров можно легко найти в Pandas:"
      ],
      "metadata": {
        "id": "lhaDbmvxr0XU"
      }
    },
    {
      "cell_type": "code",
      "source": [
        "# Average fare price\n",
        "round(partial_titanic[\"Fare\"].mean(), 3)"
      ],
      "metadata": {
        "id": "TzKGugUnXiT6",
        "colab": {
          "base_uri": "https://localhost:8080/"
        },
        "outputId": "523eb208-168e-4c11-bd0f-05edd469a152"
      },
      "execution_count": 33,
      "outputs": [
        {
          "output_type": "execute_result",
          "data": {
            "text/plain": [
              "32.204"
            ]
          },
          "metadata": {},
          "execution_count": 33
        }
      ]
    },
    {
      "cell_type": "markdown",
      "source": [
        "Алгоритм KNN успешно нашел 9 пассажиров, которые являются выбросами в смысле стоимости проезда. Есть [много дополнительных параметров](https://pyod.readthedocs.io/en/latest/pyod.models.html#module-pyod.models.knn), с которыми вы можете поиграться для модели KNN, чтобы она соответствовала вашим конкретным потребностям \n",
        "\n",
        "Выбросы теперь можно удалить из данных, если вы чувствуете, что они не отражают общее впечатление от данных. Как упоминалось ранее, вам следует тщательно обдумать, подходит ли обнаружение аномалий для очистки данных для вашей проблемы."
      ],
      "metadata": {
        "id": "TvFKG0o8r45t"
      }
    },
    {
      "cell_type": "markdown",
      "source": [
        "### 6 — Обнаружение аномалий для прогнозирования"
      ],
      "metadata": {
        "id": "j_SlQVPAlC3v"
      }
    },
    {
      "cell_type": "markdown",
      "source": [
        "В предыдущем разделе вы рассмотрели обнаружение аномалий для очистки данных . В этом разделе вы возьмете пик обнаружения аномалий для предсказания . Вы будете обучать модель на существующих данных, а затем использовать модель, чтобы предсказать, являются ли новые данные выбросами.\n",
        "\n",
        "Скажем, распространился слух, что миссис Уотсон также забрала «Титаник», но ее смерть так и не была зарегистрирована. По слухам, миссис Уотсон была богатой дамой, которая заплатила 1000 долларов за путешествие на «Титанике» в очень эксклюзивном номере."
      ],
      "metadata": {
        "id": "ZvT4sLnlsPra"
      }
    },
    {
      "cell_type": "markdown",
      "source": [
        "Обнаружение аномалии не может с уверенностью сказать, является ли слух правдивым или ложным. Однако он может сказать, является ли миссис Ватсон аномалией или нет, основываясь на информации других пассажиров. Если она аномалия, слух следует воспринимать с долей скептицизма.\n",
        "\n",
        "Давайте проверим существование миссис Ватсон с другой моделью в библиотеке PyOD; **Фактор локального выброса (LOF)** . Модель LOF проверяет, является ли точка данных выбросом, сравнивая локальную плотность точки данных с локальными плотностями ее соседей. Для получения дополнительной информации об этом методе вы можете посетить [его страницу в Википедии](https://en.wikipedia.org/wiki/Local_outlier_factor).\n",
        "\n",
        "Приступаем к кодированию! Вы начинаете с создания модели Local Outlier Factor:"
      ],
      "metadata": {
        "id": "P89P2o1psVKZ"
      }
    },
    {
      "cell_type": "code",
      "source": [
        "# Import the LOF\n",
        "from pyod.models.lof import LOF\n",
        "# Initiate a LOF model\n",
        "LOF_model = LOF()\n",
        "# Train the model on the Titanic data\n",
        "LOF_model.fit(partial_titanic)"
      ],
      "metadata": {
        "colab": {
          "base_uri": "https://localhost:8080/"
        },
        "id": "nY_z64uiklNl",
        "outputId": "77fa9390-c21f-456f-a8e1-8872243b7412"
      },
      "execution_count": 34,
      "outputs": [
        {
          "output_type": "execute_result",
          "data": {
            "text/plain": [
              "LOF(algorithm='auto', contamination=0.1, leaf_size=30, metric='minkowski',\n",
              "  metric_params=None, n_jobs=1, n_neighbors=20, novelty=True, p=2)"
            ]
          },
          "metadata": {},
          "execution_count": 34
        }
      ]
    },
    {
      "cell_type": "markdown",
      "source": [
        "Обратите внимание, насколько работа с моделью LOF похожа на работу с моделью [KNN](https://russianblogs.com/article/1087498396/).\n",
        "\n",
        "Теперь вы можете представить миссис Ватсон как точку данных:"
      ],
      "metadata": {
        "id": "LWMcIt9psqWC"
      }
    },
    {
      "cell_type": "code",
      "source": [
        "# Represent Mrs. Watson as a data point(Представьте миссис Ватсон в виде точки данных)\n",
        "mrs_watson = [[0, 1, 1000, 1]]"
      ],
      "metadata": {
        "id": "KjxdKTVUkrda"
      },
      "execution_count": 35,
      "outputs": []
    },
    {
      "cell_type": "code",
      "source": [
        "mrs_watson"
      ],
      "metadata": {
        "colab": {
          "base_uri": "https://localhost:8080/"
        },
        "id": "kGB9d7kfktt7",
        "outputId": "643864c1-06a7-4d29-fe48-1c37ffe071e2"
      },
      "execution_count": 36,
      "outputs": [
        {
          "output_type": "execute_result",
          "data": {
            "text/plain": [
              "[[0, 1, 1000, 1]]"
            ]
          },
          "metadata": {},
          "execution_count": 36
        }
      ]
    },
    {
      "cell_type": "markdown",
      "source": [
        "Значения mrs_watsonпредставляют ее выживание ( 0для не выживших), пассажирский класс ( 1для первого класса), стоимость проезда ( 1000$для цены проезда) и пол ( 1для женщин). Для модели LOF требуются двумерные массивы, поэтому []в mrs_watson.\n",
        "\n",
        "Теперь мы используем predict()метод, чтобы предсказать, является ли миссис Ватсон выбросом или нет:"
      ],
      "metadata": {
        "id": "8uSxISmktGLv"
      }
    },
    {
      "cell_type": "code",
      "source": [
        "outlier = LOF_model.predict(mrs_watson)\n",
        "print(outlier)"
      ],
      "metadata": {
        "colab": {
          "base_uri": "https://localhost:8080/"
        },
        "id": "vRMZhIRVkx9m",
        "outputId": "bd9774d1-b217-4401-9860-3b585beba5ec"
      },
      "execution_count": 37,
      "outputs": [
        {
          "output_type": "stream",
          "name": "stdout",
          "text": [
            "[1]\n"
          ]
        }
      ]
    },
    {
      "cell_type": "markdown",
      "source": [
        "Значение 1 указывает на то, что миссис Ватсон является исключением. Это должно вызвать у вас подозрение, что слухи о миссис Уотсон ложны"
      ],
      "metadata": {
        "id": "yxxcHiVJtOYX"
      }
    },
    {
      "cell_type": "markdown",
      "source": [
        "## 7 — Подведение итогов\n",
        "Я показал вам, как реализовать обнаружение аномалий с помощью двух алгоритмов KNN и LOF. Как вы, вероятно, подозреваете, в PyOD есть еще [много алгоритмов, с которыми вы можете поиграться](https://pyod.readthedocs.io/en/latest/pyod.html).\n",
        "\n",
        "Обнаружение аномалий важно как для очистки данных, так и для прогнозирования выбросов. Приложение под рукой должно определить, представляет ли интерес применение обнаружения аномалий. Если вы планируете применять обнаружение аномалий в Python, то [PyOD](https://pyod.readthedocs.io/en/latest/) — хороший выбор."
      ],
      "metadata": {
        "id": "NSRAm45ItY1a"
      }
    }
  ]
}